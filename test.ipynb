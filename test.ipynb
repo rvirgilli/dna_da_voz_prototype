{
 "cells": [
  {
   "cell_type": "markdown",
   "metadata": {},
   "source": [
    "## Notebook para teste do protótipo DNA da Voz\n",
    "\n",
    "Este teste já possui 40 usuários pré-cadastrados. Serão executados testes de verificação e também a demonstração da inclusão de um novo usuário."
   ]
  },
  {
   "cell_type": "code",
   "execution_count": null,
   "metadata": {},
   "outputs": [],
   "source": [
    "from DNAdaVoz import DNAdaVoz\n",
    "import time\n",
    "dv = DNAdaVoz()"
   ]
  },
  {
   "cell_type": "markdown",
   "metadata": {},
   "source": [
    "### Verificações de novos áudios"
   ]
  },
  {
   "cell_type": "code",
   "execution_count": null,
   "metadata": {},
   "outputs": [],
   "source": [
    "# example1 pertence à pessoa id10279\n",
    "example1 = './files/examples/id10279_00004.wav'\n",
    "\n",
    "# example2 pertence à pessoa id10294\n",
    "example2 = './files/examples/id10294_00002.wav'\n",
    "\n",
    "# example3 pertence à pessoa id10303\n",
    "example3 = './files/examples/id10303_00008.wav'\n",
    "\n",
    "# example4 não está cadastrado\n",
    "example4 = './files/examples/lucas_ver1.wav'\n",
    "\n",
    "# example4 não está cadastrado\n",
    "example5 = './files/examples/rafaello_ver1.wav'\n",
    "\n",
    "start = time.time()\n",
    "print('Esperado: id10279 | Encontrado:', dv.find_class(example1),\n",
    "      ' | tempo de execução:', \"{:1.2f}\".format(time.time() - start) + 's')\n",
    "start = time.time()\n",
    "print('Esperado: id10294 | Encontrado:', dv.find_class(example2),\n",
    "      ' | tempo de execução:', \"{:1.2f}\".format(time.time() - start) + 's')\n",
    "start = time.time()\n",
    "print('Esperado: id10303 | Encontrado:', dv.find_class(example3),\n",
    "      ' | tempo de execução:', \"{:1.2f}\".format(time.time() - start) + 's')\n",
    "start = time.time()\n",
    "print('Esperado:    None | Encontrado:', dv.find_class(example4),\n",
    "      '    | tempo de execução:', \"{:1.2f}\".format(time.time() - start) + 's')\n",
    "start = time.time()\n",
    "print('Esperado:    None | Encontrado:', dv.find_class(example5),\n",
    "      '    | tempo de execução:', \"{:1.2f}\".format(time.time() - start) + 's')"
   ]
  },
  {
   "cell_type": "markdown",
   "metadata": {},
   "source": [
    "### Inclusão de novo usuário"
   ]
  },
  {
   "cell_type": "code",
   "execution_count": null,
   "metadata": {},
   "outputs": [],
   "source": [
    "# reference audios\n",
    "\n",
    "class_id = 'lucas'\n",
    "\n",
    "ref1 = './files/examples/lucas_ref1.wav'\n",
    "ref2 = './files/examples/lucas_ref2.wav'\n",
    "ref3 = './files/examples/lucas_ref3.wav'\n",
    "\n",
    "verification_audio = './files/examples/lucas_ver1.wav'"
   ]
  },
  {
   "cell_type": "code",
   "execution_count": null,
   "metadata": {},
   "outputs": [],
   "source": [
    "# verificação de que o usuário não está cadastrado\n",
    "start = time.time()\n",
    "print('Esperado:    None | Encontrado:', dv.find_class(verification_audio),\n",
    "      '    | tempo de execução:', \"{:1.2f}\".format(time.time() - start) + 's')"
   ]
  },
  {
   "cell_type": "code",
   "execution_count": null,
   "metadata": {},
   "outputs": [],
   "source": [
    "# a flag 'save_to_hd' será mantida como falsa para que os arquivos\n",
    "# não sejam alterados e o teste possa ser refeito\n",
    "\n",
    "dv.add_new_reference(class_id, ref1, ref2, ref3, save_to_hd=False)"
   ]
  },
  {
   "cell_type": "code",
   "execution_count": null,
   "metadata": {},
   "outputs": [],
   "source": [
    "# verificação de que o usuário está cadastrado\n",
    "start = time.time()\n",
    "print('Esperado: lucas | Encontrado:', dv.find_class(verification_audio),\n",
    "      ' | tempo de execução:', \"{:1.2f}\".format(time.time() - start) + 's')"
   ]
  },
  {
   "cell_type": "code",
   "execution_count": null,
   "metadata": {},
   "outputs": [],
   "source": []
  }
 ],
 "metadata": {
  "kernelspec": {
   "display_name": "Python 3",
   "language": "python",
   "name": "python3"
  },
  "language_info": {
   "codemirror_mode": {
    "name": "ipython",
    "version": 3
   },
   "file_extension": ".py",
   "mimetype": "text/x-python",
   "name": "python",
   "nbconvert_exporter": "python",
   "pygments_lexer": "ipython3",
   "version": "3.8.5"
  }
 },
 "nbformat": 4,
 "nbformat_minor": 4
}
